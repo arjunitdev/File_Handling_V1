{
  "nbformat": 4,
  "nbformat_minor": 0,
  "metadata": {
    "colab": {
      "provenance": []
    },
    "kernelspec": {
      "name": "python3",
      "display_name": "Python 3"
    },
    "language_info": {
      "name": "python"
    }
  },
  "cells": [
    {
      "cell_type": "code",
      "execution_count": null,
      "metadata": {
        "colab": {
          "base_uri": "https://localhost:8080/"
        },
        "id": "W0jioN6n9Ttb",
        "outputId": "c4b76d84-97ff-42d1-8bc4-14c38d5aafc7"
      },
      "outputs": [
        {
          "output_type": "stream",
          "name": "stdout",
          "text": [
            "{'i': 2, 'am': 1, 'arjun': 1, 'revising': 1, 'file': 1, 'handling': 1, '\\n': 1, 'love': 1, 'data': 1, 'science': 1}\n"
          ]
        }
      ],
      "source": [
        "f= open(\"/content/sample_data/fun.txt\",\"w\")\n",
        "f.write(\"i am arjun revising file handling \")\n",
        "f= open(\"/content/sample_data/fun.txt\",\"a\")\n",
        "f.write(\"\\n i love data science  \")\n",
        "visit={}\n",
        "f= open(\"/content/sample_data/fun.txt\",\"r\")\n",
        "for i in f:\n",
        "  token=i.split(\" \")\n",
        "  for j in token :\n",
        "   if j in visit:\n",
        "      visit[j] += 1\n",
        "   else:\n",
        "      visit[j]=1\n",
        "\n",
        "visit.pop(\"\")\n",
        "print(visit)\n",
        "\n",
        "f.close()"
      ]
    },
    {
      "cell_type": "code",
      "source": [
        "f_out= open(\"/content/sample_data/fun_out.txt\",\"w\")\n",
        "max_freq = max(visit.values())\n",
        "\n",
        "for k in visit:\n",
        "  if visit[k] == max_freq:\n",
        "    f_out.write(k + \"\\n\")\n",
        "    print(k  +\" \" + \"has the length \" + str(visit[k]))\n",
        "f_out.close()\n",
        "\n",
        "\n",
        "\n"
      ],
      "metadata": {
        "colab": {
          "base_uri": "https://localhost:8080/"
        },
        "id": "skRlP90Q_rYu",
        "outputId": "17703960-52a9-4672-b3c3-9cc0d5e054f6"
      },
      "execution_count": null,
      "outputs": [
        {
          "output_type": "stream",
          "name": "stdout",
          "text": [
            "i has the length 2\n"
          ]
        }
      ]
    },
    {
      "cell_type": "code",
      "source": [],
      "metadata": {
        "id": "rWATFgOeAh89"
      },
      "execution_count": null,
      "outputs": []
    }
  ]
}